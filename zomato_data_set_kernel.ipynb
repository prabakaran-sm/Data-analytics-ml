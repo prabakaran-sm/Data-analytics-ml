{
  "cells": [
    {
      "metadata": {
        "_uuid": "8f2839f25d086af736a60e9eeb907d3b93b6e0e5",
        "_cell_guid": "b1076dfc-b9ad-4769-8c92-a6c4dae69d19",
        "trusted": true,
        "collapsed": true
      },
      "cell_type": "code",
      "source": "# This Python 3 environment comes with many helpful analytics libraries installed\n# It is defined by the kaggle/python docker image: https://github.com/kaggle/docker-python\n# For example, here's several helpful packages to load in \n\nimport numpy as np # linear algebra\nimport pandas as pd # data processing, CSV file I/O (e.g. pd.read_csv)\n\n# Input data files are available in the \"../input/\" directory.\n# For example, running this (by clicking run or pressing Shift+Enter) will list the files in the input directory\n\nimport os\nprint(os.listdir(\"../input\"))\n\n# Any results you write to the current directory are saved as output.",
      "execution_count": null,
      "outputs": []
    },
    {
      "metadata": {
        "_cell_guid": "79c7e3d0-c299-4dcb-8224-4455121ee9b0",
        "collapsed": true,
        "_uuid": "d629ff2d2480ee46fbb7e2d37f6b5fab8052498a",
        "trusted": true
      },
      "cell_type": "code",
      "source": "import pandas as pd\nimport numpy as np\nimport matplotlib.pyplot as plt\nimport seaborn as sns\n%matplotlib inline\npath = '../input/'",
      "execution_count": null,
      "outputs": []
    },
    {
      "metadata": {
        "trusted": true,
        "collapsed": true,
        "_uuid": "6f8069fd40c54bfed3772f8528fc3427654f648d"
      },
      "cell_type": "code",
      "source": "pd.options.display.max_columns = 999",
      "execution_count": null,
      "outputs": []
    },
    {
      "metadata": {
        "trusted": true,
        "collapsed": true,
        "_uuid": "fe70c8b9303ae8b8ac71dff95e64b1ed98020a07"
      },
      "cell_type": "code",
      "source": "df=pd.read_csv(path + 'zomato.csv' ,encoding = \"ISO-8859-1\")",
      "execution_count": null,
      "outputs": []
    },
    {
      "metadata": {
        "trusted": true,
        "_uuid": "21b3391e787c7d7c5da343df4366d0272b2d2a6e",
        "collapsed": true
      },
      "cell_type": "code",
      "source": "df.head(2)",
      "execution_count": null,
      "outputs": []
    },
    {
      "metadata": {
        "trusted": true,
        "_uuid": "7c30066c829ba74eb633c11f66e01c75c18b1484",
        "collapsed": true
      },
      "cell_type": "code",
      "source": "df.shape",
      "execution_count": null,
      "outputs": []
    },
    {
      "metadata": {
        "trusted": true,
        "_uuid": "a71063c7d12bcaafd806e8620c7f366b099e9511",
        "collapsed": true
      },
      "cell_type": "code",
      "source": "df.dtypes",
      "execution_count": null,
      "outputs": []
    },
    {
      "metadata": {
        "trusted": true,
        "_uuid": "f8834cbed9f6acfdbf73321a73f7b5c43f7568d2",
        "collapsed": true
      },
      "cell_type": "code",
      "source": "df_CC = pd.read_excel( path + 'Country-Code.xlsx')",
      "execution_count": null,
      "outputs": []
    },
    {
      "metadata": {
        "trusted": true,
        "scrolled": true,
        "_uuid": "6c711431b3226b5a89271d3a82ca360f894ca9ae",
        "collapsed": true
      },
      "cell_type": "code",
      "source": "df_CC.head(3)",
      "execution_count": null,
      "outputs": []
    },
    {
      "metadata": {
        "trusted": true,
        "_uuid": "561b0ef721d43509ca72d302f4f1a64688122b08",
        "collapsed": true
      },
      "cell_type": "code",
      "source": "df.columns",
      "execution_count": null,
      "outputs": []
    },
    {
      "metadata": {
        "trusted": true,
        "collapsed": true,
        "_uuid": "7361ad3a68085f956c95b3c9cc82c608ffae9e54"
      },
      "cell_type": "code",
      "source": "df_grp = df.groupby(['Country Code'],as_index=False).count()[['Country Code','Restaurant ID']]",
      "execution_count": null,
      "outputs": []
    },
    {
      "metadata": {
        "trusted": true,
        "_uuid": "5a82ac70b7127ff934390bff74ad2988736a0369",
        "collapsed": true
      },
      "cell_type": "code",
      "source": "df_grp.columns=['Country Code','No of Restauant']",
      "execution_count": null,
      "outputs": []
    },
    {
      "metadata": {
        "trusted": true,
        "_uuid": "ceb99a81bfb007ed05a548c5f0cd9a521af87e23",
        "collapsed": true
      },
      "cell_type": "code",
      "source": "grp = df_grp.join(df_CC.set_index('Country Code'),on='Country Code')",
      "execution_count": null,
      "outputs": []
    },
    {
      "metadata": {
        "trusted": true,
        "_uuid": "667c572069d6c86db3971279612029d1cf71a4a5",
        "collapsed": true
      },
      "cell_type": "code",
      "source": "grp.head()",
      "execution_count": null,
      "outputs": []
    },
    {
      "metadata": {
        "trusted": true,
        "_uuid": "2ff64472fafacfcb0175e094cca7d9df5a18c8d5",
        "collapsed": true
      },
      "cell_type": "code",
      "source": "sns.set(rc={'figure.figsize':(10,5)})\nsns.barplot(grp['Country'],grp['No of Restauant'])\nplt.xticks(rotation = 90)\nplt.show()",
      "execution_count": null,
      "outputs": []
    },
    {
      "metadata": {
        "trusted": true,
        "scrolled": false,
        "_uuid": "a99d9100f8f190dd421b23c5d1b18ebb6148a1a3",
        "collapsed": true
      },
      "cell_type": "code",
      "source": "df_grp_ct = df.groupby(['Country Code'],as_index=False)\ndf_ct_mean = df_grp_ct['Aggregate rating'].agg(np.mean)\ndf_ct_mean.head(3)",
      "execution_count": null,
      "outputs": []
    },
    {
      "metadata": {
        "trusted": true,
        "collapsed": true,
        "_uuid": "f444ea1369e10b5306318a991071e863cd81208f"
      },
      "cell_type": "code",
      "source": "mean_res = df_ct_mean.join(df_CC.set_index('Country Code'),on='Country Code')",
      "execution_count": null,
      "outputs": []
    },
    {
      "metadata": {
        "trusted": true,
        "_uuid": "bd35804daf9e0551a3a5007d2288b894fb955a68",
        "collapsed": true
      },
      "cell_type": "code",
      "source": "mean_res.head(3)",
      "execution_count": null,
      "outputs": []
    },
    {
      "metadata": {
        "trusted": true,
        "_uuid": "9ee18ce6d7d35b7be6e7b1dfa5745a4120f5ccfa",
        "collapsed": true
      },
      "cell_type": "code",
      "source": "sns.set(rc={'figure.figsize':(10,7)})\nsns.barplot(mean_res['Country'],mean_res['Aggregate rating'])\nplt.xticks(rotation=70)\nplt.show()",
      "execution_count": null,
      "outputs": []
    },
    {
      "metadata": {
        "trusted": true,
        "collapsed": true,
        "_uuid": "1344dd34619c6e713b91f9df9d6619b6c8fcfb72"
      },
      "cell_type": "code",
      "source": "",
      "execution_count": null,
      "outputs": []
    }
  ],
  "metadata": {
    "kernelspec": {
      "display_name": "Python 3",
      "language": "python",
      "name": "python3"
    },
    "language_info": {
      "name": "python",
      "version": "3.6.5",
      "mimetype": "text/x-python",
      "codemirror_mode": {
        "name": "ipython",
        "version": 3
      },
      "pygments_lexer": "ipython3",
      "nbconvert_exporter": "python",
      "file_extension": ".py"
    }
  },
  "nbformat": 4,
  "nbformat_minor": 1
}